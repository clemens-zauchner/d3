{
 "cells": [
  {
   "cell_type": "code",
   "execution_count": 1,
   "metadata": {},
   "outputs": [],
   "source": [
    "import os\n",
    "import pandas as pd\n",
    "\n",
    "from spacy.lang.en.stop_words import STOP_WORDS"
   ]
  },
  {
   "cell_type": "code",
   "execution_count": 2,
   "metadata": {},
   "outputs": [],
   "source": [
    "blog_dir = '/Users/clemens.zauchner/Google Drive/Text generation/data/kd_data_clean'"
   ]
  },
  {
   "cell_type": "code",
   "execution_count": 3,
   "metadata": {},
   "outputs": [],
   "source": [
    "files = [file for file in os.listdir(blog_dir, ) if file.endswith('.txt')]"
   ]
  },
  {
   "cell_type": "code",
   "execution_count": 4,
   "metadata": {},
   "outputs": [],
   "source": [
    "blog_posts = []\n",
    "for file in files:\n",
    "    blog_posts.append(open(os.path.join(blog_dir, file), 'r').readlines())"
   ]
  },
  {
   "cell_type": "code",
   "execution_count": 5,
   "metadata": {},
   "outputs": [],
   "source": [
    "blog_posts = [post for sublist in blog_posts for post in sublist if post != \"\\n\"]"
   ]
  },
  {
   "cell_type": "code",
   "execution_count": 6,
   "metadata": {},
   "outputs": [
    {
     "name": "stdout",
     "output_type": "stream",
     "text": [
      "comments by tomi mester data36 how can one get his her first entry level job as a data scientist analyst if you scroll through the data science subreddit you will find many questions around this topic readers of my blog data36 com asking the same from me time to time and i can tell you this a totally valid problem i have decided to summarize my answers for all the major questions 1 what are the most important data scientist skills and tools and how can you get them good news bad news i will start with the bad one the skills that they teach you at the universities in 90 of the cases are not really useful in real life data science projects as i ve written about that several times in real projects these 4 data coding skills are needed bash command line python sql r and sometimes java source kdnuggets it really depends on the company which 2 or 3 they use but if you ve learned one it will be much easier to learn another so the first big question is how can you get these tools here comes the good news all of these tools are free it means that you can download install and use them without paying a penny for them you can practice build a data pet project or anything i wrote a step by step article recently on how to get and install these tools on your computer link data coding 101 install python sql r bash for non devs 2 how to learn there are 2 major sources of learning data science easily and cost efficiently don t worry none of these are to attend <U+20AC>1000+ conferences or workshops 1st books kinda old school but still a good way of learning from books you can get very focused very detailed knowledge about online data analysis statistics data coding etc i highlighted 7 books i recommend in my previous article here link top 7 data books i recommend 2nd online webinars and video courses data science online courses are fairly cheap $10 $50 and they cover various topics from data coding to business intelligence if you don t want to spend money on this i ve listed free courses and learning materials in this post link 3 how to practice and how to get real life experience this is a tricky one right every company wants to have people with at least a little bit of real life experience but how do you get real life experience if you need real life experience to get your first job classic catch 22 and the answer is pet projects pet project means that you come up with a random data project idea that makes you excited then you simply start to build it you can think about it as a small startup but make sure that you keep focusing on the data science part of the project and you can just ignore the business part to give you some ideas i listed here some of my pet projects from the past few years i ve built a script that was monitoring a real estate website and emailed me the best deals in real time so i could get these deals before everyone else i ve built a script that was pulling all the articles form abc bbc and cnn and based on the used words connected the articles that were about the exact same topic on the 3 different news portals i ve built a self learning chatbot in python it s not too smart though as i haven t trained it yet etc be creative find a data science related pet project for yourself and start coding if you hit the wall with a coding problem that can happen easily when you start to learn a new data language just use google and or stackoverflow one short example of mine on how effective stackoverflow is left side my question right side the answer in 7 minutes notice the timestamp i ve sent in a sort of complicated question and i ve got back the answer in 7 minutes the only thing i needed to do after this is to copy paste the code into my production code and boom it has just worked update1 cross validated is another great forum for data science related questions thanks for the addition for namebrandon from reddit +1 suggestion even if it s a little bit difficult try to get a mentor if you are lucky enough you will find someone who works in a data scientist role at a nice company and who can spend 1 hour weekly or biweekly with you and discuss or teach things 4 where and how to send your first job application if you haven t managed to find a mentor you can still find your first one at your first company this is gonna be your first data science related job so i suggest not to focus on big money or on super fancy startup atmosphere focus on finding an environment where you can learn and improve yourself taking your first data science job at a multinational company might not fit in this idea because people there are usually too busy with their things so they won t have time or and motivation help you improving of course there are always exceptions starting at a tiny startup as a first data person on the team is not a good idea either in your case because these companies don t have senior data guys to learn from i advise you to focus on 50 500 sized companies that s the golden mean senior data scientists are on board but they are not too busy helping and teaching you okay you have found some good companies how to apply some principals for the cv highlight your skills and projects not your experience as you don t have too much years on your paper yet list out the data coding languages you use and link some of the related github repos of yours so you can show that you really have used that language also in most cases companies are asking for cover letter it s a good opportunity to express your enthusiasm of course but you could add some practical details as well like what would you do on your first few weeks if you d be hired eg looking on your registration flow i guess the page plays a great role in it on my first few weeks i d make and specific researches around that to prove this hypothesis and understand it deeper it could help the company to improve and eventually push the kpis hopefully this would land you a job interview where you can chat a little bit about your pet projects your cover letter suggestions but it will be mostly about personality fit check and most probably some basic skill test if you had practiced enough you will pass this but if you are a nervous type and you want to practice more you can do it on hackerrank com conclusion well that s it i know it sounds easier when it s written but if you are really determined to be a data scientist it won t cause you any problem to make it happen good luck with that and if you want to learn more about data science check my blog data36 com and or subscribe to my newsletter thanks for reading enjoyed the article please just let me know by clicking the <U+0001F49A> below it also helps other people see the story original post re posted with permission bio tomi mester is data analyst researcher focused on data driven startups ecommerce and big data analytics related 10 tips to improve your data science interview practical skills that practical data scientists need 10 signs of a bad data scientist var disqus shortname = kdnuggets function var dsq = document createelement script dsq type = text javascript dsq async = true dsq src = https kdnuggets disqus com embed js document getelementsbytagname head 0 || document getelementsbytagname body 0 appendchild dsq\n",
      "\n"
     ]
    }
   ],
   "source": [
    "print(blog_posts[0])"
   ]
  },
  {
   "cell_type": "code",
   "execution_count": 7,
   "metadata": {},
   "outputs": [],
   "source": [
    "word_counts = {}\n",
    "for post in blog_posts:\n",
    "    for word in post.split(' '):\n",
    "        if word not in STOP_WORDS and len(word) > 1:\n",
    "            if word in word_counts:\n",
    "                word_counts[word] += 1\n",
    "            else:\n",
    "                word_counts[word] = 1\n",
    "                \n",
    "word_counts_filtered = {k: v for k, v in word_counts.items() if v > 10}\n",
    "# sorted(word_counts.items(), key=lambda x:-x[1])  "
   ]
  },
  {
   "cell_type": "code",
   "execution_count": 17,
   "metadata": {},
   "outputs": [],
   "source": [
    "pd.DataFrame.from_dict(word_counts_filtered, orient = 'index',\n",
    "                      columns = ['value']).reset_index().to_csv('/Users/clemens.zauchner/Google Drive/techbreakfast/d3/bubble_hack/bubble_hack.csv', \n",
    "                                                                index = False, header = ['id', 'value'])"
   ]
  }
 ],
 "metadata": {
  "kernelspec": {
   "display_name": "Python 3",
   "language": "python",
   "name": "python3"
  },
  "language_info": {
   "codemirror_mode": {
    "name": "ipython",
    "version": 3
   },
   "file_extension": ".py",
   "mimetype": "text/x-python",
   "name": "python",
   "nbconvert_exporter": "python",
   "pygments_lexer": "ipython3",
   "version": "3.6.4"
  }
 },
 "nbformat": 4,
 "nbformat_minor": 2
}
